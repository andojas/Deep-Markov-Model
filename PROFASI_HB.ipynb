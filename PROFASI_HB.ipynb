{
  "nbformat": 4,
  "nbformat_minor": 0,
  "metadata": {
    "colab": {
      "name": " PROFASI_HB.ipynb",
      "provenance": [],
      "collapsed_sections": [],
      "authorship_tag": "ABX9TyPiFXn6zv2OgIxcXbb6sgp4",
      "include_colab_link": true
    },
    "kernelspec": {
      "name": "python3",
      "display_name": "Python 3"
    },
    "accelerator": "GPU"
  },
  "cells": [
    {
      "cell_type": "markdown",
      "metadata": {
        "id": "view-in-github",
        "colab_type": "text"
      },
      "source": [
        "<a href=\"https://colab.research.google.com/github/andojas/Deep-Markov-Model/blob/master/PROFASI_HB.ipynb\" target=\"_parent\"><img src=\"https://colab.research.google.com/assets/colab-badge.svg\" alt=\"Open In Colab\"/></a>"
      ]
    },
    {
      "cell_type": "code",
      "metadata": {
        "id": "pdEVL3ekK5v0",
        "colab_type": "code",
        "colab": {
          "base_uri": "https://localhost:8080/",
          "height": 51
        },
        "outputId": "39668a02-cda9-4db2-b5ea-70edfd6cd5d5"
      },
      "source": [
        "!pip install -q git+https://www.github.com/google/jax-md"
      ],
      "execution_count": 1,
      "outputs": [
        {
          "output_type": "stream",
          "text": [
            "\u001b[?25l\r\u001b[K     |█▍                              | 10kB 30.5MB/s eta 0:00:01\r\u001b[K     |██▊                             | 20kB 3.5MB/s eta 0:00:01\r\u001b[K     |████                            | 30kB 4.1MB/s eta 0:00:01\r\u001b[K     |█████▍                          | 40kB 4.4MB/s eta 0:00:01\r\u001b[K     |██████▉                         | 51kB 4.0MB/s eta 0:00:01\r\u001b[K     |████████▏                       | 61kB 4.3MB/s eta 0:00:01\r\u001b[K     |█████████▌                      | 71kB 4.8MB/s eta 0:00:01\r\u001b[K     |██████████▉                     | 81kB 5.2MB/s eta 0:00:01\r\u001b[K     |████████████▏                   | 92kB 5.3MB/s eta 0:00:01\r\u001b[K     |█████████████▋                  | 102kB 5.2MB/s eta 0:00:01\r\u001b[K     |███████████████                 | 112kB 5.2MB/s eta 0:00:01\r\u001b[K     |████████████████▎               | 122kB 5.2MB/s eta 0:00:01\r\u001b[K     |█████████████████▋              | 133kB 5.2MB/s eta 0:00:01\r\u001b[K     |███████████████████             | 143kB 5.2MB/s eta 0:00:01\r\u001b[K     |████████████████████▍           | 153kB 5.2MB/s eta 0:00:01\r\u001b[K     |█████████████████████▊          | 163kB 5.2MB/s eta 0:00:01\r\u001b[K     |███████████████████████         | 174kB 5.2MB/s eta 0:00:01\r\u001b[K     |████████████████████████▍       | 184kB 5.2MB/s eta 0:00:01\r\u001b[K     |█████████████████████████▊      | 194kB 5.2MB/s eta 0:00:01\r\u001b[K     |███████████████████████████▏    | 204kB 5.2MB/s eta 0:00:01\r\u001b[K     |████████████████████████████▌   | 215kB 5.2MB/s eta 0:00:01\r\u001b[K     |█████████████████████████████▉  | 225kB 5.2MB/s eta 0:00:01\r\u001b[K     |███████████████████████████████▏| 235kB 5.2MB/s eta 0:00:01\r\u001b[K     |████████████████████████████████| 245kB 5.2MB/s \n",
            "\u001b[?25h  Building wheel for jax-md (setup.py) ... \u001b[?25l\u001b[?25hdone\n"
          ],
          "name": "stdout"
        }
      ]
    },
    {
      "cell_type": "code",
      "metadata": {
        "id": "EBVwkTknKfRV",
        "colab_type": "code",
        "colab": {
          "base_uri": "https://localhost:8080/",
          "height": 156
        },
        "outputId": "41df41da-29e8-43ab-8de1-79b30ecf7ffb"
      },
      "source": [
        "!pip install --upgrade -q https://storage.googleapis.com/jax-releases/cuda$(echo $CUDA_VERSION | sed -e 's/\\.//' -e 's/\\..*//')/jaxlib-$(pip search jaxlib | grep -oP '[0-9\\.]+' | head -n 1)-cp36-none-linux_x86_64.whl\n",
        "!pip install --upgrade -q jax\n",
        "!pip install -q git+https://www.github.com/google/jax-md"
      ],
      "execution_count": null,
      "outputs": [
        {
          "output_type": "stream",
          "text": [
            "\u001b[31m  ERROR: HTTP error 404 while getting https://storage.googleapis.com/jax-releases/cuda101/jaxlib-0.1.55-cp36-none-linux_x86_64.whl\u001b[0m\n",
            "\u001b[31m  ERROR: Could not install requirement jaxlib==0.1.55 from https://storage.googleapis.com/jax-releases/cuda101/jaxlib-0.1.55-cp36-none-linux_x86_64.whl because of error 404 Client Error: Not Found for url: https://storage.googleapis.com/jax-releases/cuda101/jaxlib-0.1.55-cp36-none-linux_x86_64.whl\u001b[0m\n",
            "\u001b[31mERROR: Could not install requirement jaxlib==0.1.55 from https://storage.googleapis.com/jax-releases/cuda101/jaxlib-0.1.55-cp36-none-linux_x86_64.whl because of HTTP error 404 Client Error: Not Found for url: https://storage.googleapis.com/jax-releases/cuda101/jaxlib-0.1.55-cp36-none-linux_x86_64.whl for URL https://storage.googleapis.com/jax-releases/cuda101/jaxlib-0.1.55-cp36-none-linux_x86_64.whl\u001b[0m\n",
            "\u001b[K     |████████████████████████████████| 450kB 5.0MB/s \n",
            "\u001b[?25h  Building wheel for jax (setup.py) ... \u001b[?25l\u001b[?25hdone\n",
            "\u001b[K     |████████████████████████████████| 245kB 4.8MB/s \n",
            "\u001b[?25h  Building wheel for jax-md (setup.py) ... \u001b[?25l\u001b[?25hdone\n"
          ],
          "name": "stdout"
        }
      ]
    },
    {
      "cell_type": "code",
      "metadata": {
        "id": "10pzDyaLG1Ml",
        "colab_type": "code",
        "colab": {}
      },
      "source": [
        "import numpy as onp\n",
        "\n",
        "import jax.numpy as np\n",
        "from jax import random\n",
        "from jax import jit, grad, vmap, value_and_grad\n",
        "from jax import lax\n",
        "from jax import ops\n",
        "\n",
        "from jax.config import config\n",
        "config.update(\"jax_enable_x64\", True)\n",
        "\n",
        "from jax_md import space, smap, energy, minimize, quantity, simulate, partition, util\n",
        "\n",
        "from functools import partial\n",
        "import time\n",
        "\n",
        "f32 = np.float32\n",
        "f64 = np.float64\n",
        "\n",
        "import matplotlib\n",
        "import matplotlib.pyplot as plt\n",
        "plt.rcParams.update({'font.size': 16})\n",
        "#import seaborn as sns \n",
        "#sns.set_style(style='white')\n",
        "\n",
        "def format_plot(x, y):  \n",
        "  plt.grid(True)\n",
        "  plt.xlabel(x, fontsize=20)\n",
        "  plt.ylabel(y, fontsize=20)\n",
        "  \n",
        "def finalize_plot(shape=(1, 0.7)):\n",
        "  plt.gcf().set_size_inches(\n",
        "    shape[0] * 1.5 * plt.gcf().get_size_inches()[1], \n",
        "    shape[1] * 1.5 * plt.gcf().get_size_inches()[1])\n",
        "  plt.tight_layout()\n",
        "\n",
        "def calculate_bond_data(displacement_or_metric, R, dr_cutoff, species=None):\n",
        "  if( not(species is None)):\n",
        "    assert(False)\n",
        "    \n",
        "  metric = space.map_product(space.canonicalize_displacement_or_metric(displacement))\n",
        "  dr = metric(R,R)\n",
        "\n",
        "  dr_include = np.triu(np.where(dr<1, 1, 0)) - np.eye(R.shape[0],dtype=np.int32)\n",
        "  index_list=np.dstack(np.meshgrid(np.arange(N), np.arange(N), indexing='ij'))\n",
        "\n",
        "  i_s = np.where(dr_include==1, index_list[:,:,0], -1).flatten()\n",
        "  j_s = np.where(dr_include==1, index_list[:,:,1], -1).flatten()\n",
        "  ij_s = np.transpose(np.array([i_s,j_s]))\n",
        "\n",
        "  bonds = ij_s[(ij_s!=np.array([-1,-1]))[:,1]]\n",
        "  lengths = dr.flatten()[(ij_s!=np.array([-1,-1]))[:,1]]\n",
        "\n",
        "  return bonds, lengths\n",
        "\n",
        "def plot_system(R,box_size,species=None,paired_atoms=None,ms=20):\n",
        "  R_plt = onp.array(R)\n",
        "\n",
        "  if(species is None):\n",
        "    plt.plot(R_plt[:, 0], R_plt[:, 1], 'o', markersize=ms)\n",
        "    if paired_atoms is not None:\n",
        "      for pair in paired_atoms:\n",
        "        R_plt_pair = np.array([[R_plt[pair[0],0], R_plt[pair[0],1]],\n",
        "                               [R_plt[pair[1],0], R_plt[pair[1],1]]])\n",
        "        plt.plot(R_plt_pair[:,0], R_plt_pair[:,1], '-o', markersize=ms)\n",
        "  else:\n",
        "    for ii in range(np.amax(species)+1):\n",
        "      Rtemp = R_plt[species==ii]\n",
        "      plt.plot(Rtemp[:, 0], Rtemp[:, 1], 'o', markersize=ms)\n",
        "\n",
        "  plt.xlim([0, box_size])\n",
        "  plt.ylim([0, box_size])\n",
        "  plt.xticks([], [])\n",
        "  plt.yticks([], [])\n",
        "\n",
        "  finalize_plot((1,1))\n",
        "  \n",
        "key = random.PRNGKey(0)"
      ],
      "execution_count": 2,
      "outputs": []
    },
    {
      "cell_type": "markdown",
      "metadata": {
        "id": "d_exmcjdWbLc",
        "colab_type": "text"
      },
      "source": [
        "## Creating a user defined potential functions"
      ]
    },
    {
      "cell_type": "code",
      "metadata": {
        "id": "_jWadUtqJ93o",
        "colab_type": "code",
        "colab": {}
      },
      "source": [
        "def u_function(dr, s_hb = 2.0, **kwargs):\n",
        "  U = 5 * (s_hb/dr)**12 - 6 * (s_hb/dr)**10\n",
        "  return np.array(U, dtype=dr.dtype)\n",
        "\n",
        "def v_function(dr, a, b, **kwargs):\n",
        "  V = np.where(a > np.pi/2 and b > np.pi/2,\n",
        "               np.sqrt(np.cos(a) * np.cos(b)),\n",
        "               0)\n",
        "  return np.array(V, dtype = dr.dtype)\n",
        "\n",
        "#def hb_function(dr, e_hb1, e_hb2, "
      ],
      "execution_count": 3,
      "outputs": []
    },
    {
      "cell_type": "markdown",
      "metadata": {
        "id": "hBuEI9WCoT55",
        "colab_type": "text"
      },
      "source": [
        "Visualising the U-function potential\n"
      ]
    },
    {
      "cell_type": "code",
      "metadata": {
        "id": "c1PovW2NMkg4",
        "colab_type": "code",
        "colab": {
          "base_uri": "https://localhost:8080/",
          "height": 299
        },
        "outputId": "f839f71d-9e57-40c1-b799-f35fc1e0993a"
      },
      "source": [
        "drs = np.arange(0.5,3,0.01)\n",
        "U = u_function(drs)\n",
        "plt.gca().axhline(y=0, color='k', alpha=0.5)\n",
        "plt.xlim([0.5, 3.0])\n",
        "plt.ylim([-6.0, 2.0])\n",
        "plt.plot(drs,U)\n",
        "format_plot(r'$r$', r'$u(r)$')\n",
        "finalize_plot()"
      ],
      "execution_count": 4,
      "outputs": [
        {
          "output_type": "display_data",
          "data": {
            "image/png": "[encoded data removed]",
            "text/plain": [
              "<Figure size 432x302.4 with 1 Axes>"
            ]
          },
          "metadata": {
            "tags": [],
            "needs_background": "light"
          }
        }
      ]
    },
    {
      "cell_type": "markdown",
      "metadata": {
        "id": "E4ybujDfoafG",
        "colab_type": "text"
      },
      "source": [
        "Visualising the Morse potential"
      ]
    },
    {
      "cell_type": "code",
      "metadata": {
        "id": "ifMqbZ4ZoeHs",
        "colab_type": "code",
        "colab": {
          "base_uri": "https://localhost:8080/",
          "height": 299
        },
        "outputId": "a5497c4c-1477-4828-dcbf-52ded52a7c18"
      },
      "source": [
        "plt.gca().axhline(y=0, color='k', alpha=0.5)\n",
        "plt.xlim([0.5, 3.0])\n",
        "plt.ylim([-6.0, 2.0])\n",
        "\n",
        "drs = np.arange(0.5, 3.0, 0.01)\n",
        "plt.plot(drs, energy.morse(drs, sigma=1.0, epsilon=5.0, alpha=5.0))\n",
        "plt.plot(drs, ca_h(drs))\n",
        "plt.plot(drs, energy.morse(drs, sigma=1.0, epsilon=5.0, alpha=5.0) + ca_h(drs))\n",
        "\n",
        "format_plot('$r$', '$u(r)$')"
      ],
      "execution_count": 7,
      "outputs": [
        {
          "output_type": "display_data",
          "data": {
            "image/png": "[encoded data removed]",
            "text/plain": [
              "<Figure size 432x288 with 1 Axes>"
            ]
          },
          "metadata": {
            "tags": [],
            "needs_background": "light"
          }
        }
      ]
    },
    {
      "cell_type": "markdown",
      "metadata": {
        "id": "oKg0mv6tp2jr",
        "colab_type": "text"
      },
      "source": [
        "Adding the u-potential and Morse potential"
      ]
    },
    {
      "cell_type": "code",
      "metadata": {
        "id": "cg6lofXlp6GL",
        "colab_type": "code",
        "colab": {}
      },
      "source": [
        "def u_plus_morse(dr, s_hb, sigma, epsilon, alpha, **unused_kwargs):\n",
        "  u_morse = u_function(dr, s_hb) + energy.morse(dr, sigma, epsilon, alpha)\n",
        "  return np.array(u_morse, dtype=dr.dtype)"
      ],
      "execution_count": 8,
      "outputs": []
    },
    {
      "cell_type": "markdown",
      "metadata": {
        "id": "RI7S_spN9uIA",
        "colab_type": "text"
      },
      "source": [
        "Averaging u-potential and Morse potential"
      ]
    },
    {
      "cell_type": "code",
      "metadata": {
        "id": "vvjOgYzP9zmy",
        "colab_type": "code",
        "colab": {}
      },
      "source": [
        "def u_morse_avg(dr, s_hb, sigma, epsilon, alpha, **unused_kwargs):\n",
        "  u_morse = u_function(dr, s_hb) + energy.morse(dr, sigma, epsilon, alpha)\n",
        "  return np.array(u_morse/2, dtype=dr.dtype)"
      ],
      "execution_count": 9,
      "outputs": []
    },
    {
      "cell_type": "markdown",
      "metadata": {
        "id": "SEYlOe5O9esS",
        "colab_type": "text"
      },
      "source": [
        "All potentials visualised together"
      ]
    },
    {
      "cell_type": "code",
      "metadata": {
        "id": "nzxOEu-36-sT",
        "colab_type": "code",
        "colab": {
          "base_uri": "https://localhost:8080/",
          "height": 299
        },
        "outputId": "32f23e84-7492-43ed-8043-5cd2c6e59e40"
      },
      "source": [
        "drs = np.arange(0.5,3,0.01)\n",
        "u = u_function(drs)\n",
        "morse = energy.morse(drs, sigma=1.0, epsilon=5.0, alpha=5.0)\n",
        "u_morse = u_plus_morse(drs, s_hb=2.0, sigma=1.0, epsilon=5.0, alpha=5.0)\n",
        "u_morse_avg = u_morse_avg(drs, s_hb=2.0, sigma=1.0, epsilon=5.0, alpha=5.0)\n",
        "plt.gca().axhline(y=0, color='k', alpha=0.5)\n",
        "plt.xlim([0.5, 3.0])\n",
        "plt.ylim([-6.0, 2.0])\n",
        "plt.plot(drs,u, label='u')\n",
        "plt.plot(drs, morse, label='morse')\n",
        "plt.plot(drs,u_morse, label='u_plus_morse')\n",
        "plt.plot(drs, u_morse_avg, label='u_morse_avg')\n",
        "\n",
        "plt.legend()\n",
        "format_plot(r'$r$', r'$u(r)$')\n",
        "finalize_plot()"
      ],
      "execution_count": 10,
      "outputs": [
        {
          "output_type": "display_data",
          "data": {
            "image/png": "[encoded data removed]",
            "text/plain": [
              "<Figure size 432x302.4 with 1 Axes>"
            ]
          },
          "metadata": {
            "tags": [],
            "needs_background": "light"
          }
        }
      ]
    },
    {
      "cell_type": "code",
      "metadata": {
        "id": "8Yw5SGs5HWhO",
        "colab_type": "code",
        "colab": {}
      },
      "source": [
        "def ca_h(dr, alpha=2.0, epsilon=1, r0=1.08, **kwargs):\n",
        "  \"\"\"Fixed Ca-H bond length.\"\"\"\n",
        "  return epsilon * (dr - r0) ** alpha\n",
        "\n",
        "def ca_h_bond(displacement_or_metric, bond, bond_type=None, alpha=2.0, epsilon=1, r0=1.08):\n",
        "  '''Convenience wrapper to maintain fix bond lengths between Ca and H atoms.'''\n",
        "  alpha = np.array(alpha, f32)\n",
        "  epsilon = np.array(epsilon, f32)\n",
        "  r0 = np.array(r0, f32)\n",
        "  return smap.bond(\n",
        "      ca_h,\n",
        "      space.canonicalize_displacement_or_metric(displacement_or_metric),\n",
        "      bond,\n",
        "      bond_type,\n",
        "      alpha=alpha,\n",
        "      epsilon=epsilon,\n",
        "      r0=r0)\n"
      ],
      "execution_count": 11,
      "outputs": []
    },
    {
      "cell_type": "markdown",
      "metadata": {
        "id": "L6BAUJv6rraP",
        "colab_type": "text"
      },
      "source": [
        "## Testing\n",
        "This is the test part of the code, where I try to see if the bond length can be fixed while performing minimization."
      ]
    },
    {
      "cell_type": "code",
      "metadata": {
        "id": "5uTjcw1b6REY",
        "colab_type": "code",
        "colab": {
          "base_uri": "https://localhost:8080/",
          "height": 479
        },
        "outputId": "56cbf6cd-71cd-49f9-d498-79d3587d8826"
      },
      "source": [
        "test_N = 3\n",
        "test_dimension = 2\n",
        "test_box_size = 15\n",
        "\n",
        "test_key, test_split = random.split(key)\n",
        "test_pair = np.array([[5.0, 5.0],\n",
        "                      [5.0, 6.08]], dtype=f64)\n",
        "test_atom = np.array([[9.0, 9.0]])\n",
        "test_R = np.concatenate((test_pair, test_atom), axis=0)\n",
        "print(test_R)\n",
        "\n",
        "plot_system(test_R,test_box_size,paired_atoms=np.array([[0,1]]))"
      ],
      "execution_count": 71,
      "outputs": [
        {
          "output_type": "stream",
          "text": [
            "[[5.   5.  ]\n",
            " [5.   6.08]\n",
            " [9.   9.  ]]\n"
          ],
          "name": "stdout"
        },
        {
          "output_type": "display_data",
          "data": {
            "image/png": "[encoded data removed]",
            "text/plain": [
              "<Figure size 432x432 with 1 Axes>"
            ]
          },
          "metadata": {
            "tags": []
          }
        }
      ]
    },
    {
      "cell_type": "code",
      "metadata": {
        "id": "khOaVewrv5uJ",
        "colab_type": "code",
        "colab": {
          "base_uri": "https://localhost:8080/",
          "height": 428
        },
        "outputId": "18240d7f-ec89-4bf0-d31c-355ad35b2491"
      },
      "source": [
        "lulu = np.array([[1.1,4.4],\n",
        "                 [3.3,2.2],\n",
        "                 [5.5,8.8],\n",
        "                 [7.7,6.6]])\n",
        "poros = np.array([[0,2],\n",
        "                  [1,3]])\n",
        "plot_system(lulu,test_box_size, paired_atoms=poros)\n"
      ],
      "execution_count": 28,
      "outputs": [
        {
          "output_type": "display_data",
          "data": {
            "image/png": "[encoded data removed]",
            "text/plain": [
              "<Figure size 432x432 with 1 Axes>"
            ]
          },
          "metadata": {
            "tags": []
          }
        }
      ]
    },
    {
      "cell_type": "code",
      "metadata": {
        "id": "7kwC_J416RhK",
        "colab_type": "code",
        "colab": {}
      },
      "source": [
        "test_displacement, test_shift = space.periodic(test_box_size)"
      ],
      "execution_count": 52,
      "outputs": []
    },
    {
      "cell_type": "code",
      "metadata": {
        "id": "AkmnNyff6RSa",
        "colab_type": "code",
        "colab": {
          "base_uri": "https://localhost:8080/",
          "height": 85
        },
        "outputId": "7b9e058c-004c-48aa-cf92-8391d74fe347"
      },
      "source": [
        "# Create a function to calculate the total energy with specified parameters\n",
        "test_energy_fn = u_function_pair(test_displacement, s_hb = 2.0)\n",
        "\n",
        "# Use this to calculate the total energy\n",
        "print(test_energy_fn(test_R))\n",
        "\n",
        "# Use grad to calculate the net force\n",
        "test_force = -grad(test_energy_fn)(test_R)\n",
        "print(test_force)"
      ],
      "execution_count": 53,
      "outputs": [
        {
          "output_type": "stream",
          "text": [
            "5287.028224051456\n",
            "[[ 2.00271606e-04 -6.40148789e+04]\n",
            " [ 9.44903240e-04  6.40148798e+04]\n",
            " [-1.14517485e-03 -8.90050971e-04]]\n"
          ],
          "name": "stdout"
        }
      ]
    },
    {
      "cell_type": "markdown",
      "metadata": {
        "id": "qK1dAup166Bj",
        "colab_type": "text"
      },
      "source": [
        "Run minimization using u-function as a potential and visualize how it changed the atom positions in the system."
      ]
    },
    {
      "cell_type": "code",
      "metadata": {
        "id": "O9hUgRL84foq",
        "colab_type": "code",
        "colab": {
          "base_uri": "https://localhost:8080/",
          "height": 445
        },
        "outputId": "6dacc0ed-d91c-4b75-962f-95f0d85f774a"
      },
      "source": [
        "test_R_temp, test_max_force_component = run_minimization(test_energy_fn, test_R, test_shift)\n",
        "print('largest component of force after minimization = {}'.format(test_max_force_component))\n",
        "plot_system(test_R_temp, test_box_size, paired_atoms=np.array([[0,1]]))"
      ],
      "execution_count": 31,
      "outputs": [
        {
          "output_type": "stream",
          "text": [
            "largest component of force after minimization = 0.0374326155359542\n"
          ],
          "name": "stdout"
        },
        {
          "output_type": "display_data",
          "data": {
            "image/png": "[encoded data removed]",
            "text/plain": [
              "<Figure size 432x432 with 1 Axes>"
            ]
          },
          "metadata": {
            "tags": []
          }
        }
      ]
    },
    {
      "cell_type": "code",
      "metadata": {
        "id": "VP1LaJtu4gPX",
        "colab_type": "code",
        "colab": {
          "base_uri": "https://localhost:8080/",
          "height": 68
        },
        "outputId": "13be760b-e6bd-4938-fd23-726d614347e9"
      },
      "source": [
        "print('Optimal distance between atoms in u-potential: 2.0')\n",
        "print(f'Distance between paired atoms: {np.linalg.norm(test_R_temp[0]-test_R_temp[1])}')\n",
        "print(f'Distance between lone atom and closest paired atom: {np.linalg.norm(test_R_temp[1]-test_R_temp[2])}')"
      ],
      "execution_count": 32,
      "outputs": [
        {
          "output_type": "stream",
          "text": [
            "Optimal distance between atoms in u-potential: 2.0\n",
            "Distance between paired atoms: 2.0006099196788565\n",
            "Distance between lone atom and closest paired atom: 3.487467888498015\n"
          ],
          "name": "stdout"
        }
      ]
    },
    {
      "cell_type": "code",
      "metadata": {
        "id": "jT-hzzLpAjFp",
        "colab_type": "code",
        "colab": {}
      },
      "source": [
        "test_bonds = np.array([[0,1]])\n",
        "test_bond_energy_fn = ca_h_bond(test_displacement, test_bonds)"
      ],
      "execution_count": 54,
      "outputs": []
    },
    {
      "cell_type": "code",
      "metadata": {
        "id": "L5Y61k3xSDCE",
        "colab_type": "code",
        "colab": {
          "base_uri": "https://localhost:8080/",
          "height": 445
        },
        "outputId": "5bcd7295-5701-4f2c-c9a3-7b02d191b587"
      },
      "source": [
        "test_R_both_final, test_max_force_component = run_parallel_minimization(test_energy_fn, test_bond_energy_fn, test_R, test_shift, num_steps=1000)\n",
        "print('largest component of force after minimization = {}'.format(test_max_force_component))\n",
        "plot_system(test_R_both_final, test_box_size, paired_atoms=test_bonds)"
      ],
      "execution_count": 72,
      "outputs": [
        {
          "output_type": "stream",
          "text": [
            "largest component of force after minimization = 8.04924951124444\n"
          ],
          "name": "stdout"
        },
        {
          "output_type": "display_data",
          "data": {
            "image/png": "[encoded data removed]",
            "text/plain": [
              "<Figure size 432x432 with 1 Axes>"
            ]
          },
          "metadata": {
            "tags": []
          }
        }
      ]
    },
    {
      "cell_type": "code",
      "metadata": {
        "id": "ISQ0C097Uzea",
        "colab_type": "code",
        "colab": {
          "base_uri": "https://localhost:8080/",
          "height": 68
        },
        "outputId": "4d3453e7-78c1-45b9-cce6-15f666af506c"
      },
      "source": [
        "print('Optimal distance between atoms in u-potential: 2.0')\n",
        "print(f'Distance between paired atoms: {np.linalg.norm(test_R_both_final[0]-test_R_both_final[1])}')\n",
        "print(f'Distance between lone atom and closest paired atom: {np.linalg.norm(test_R_both_final[1]-test_R_both_final[2])}')"
      ],
      "execution_count": 74,
      "outputs": [
        {
          "output_type": "stream",
          "text": [
            "Optimal distance between atoms in u-potential: 2.0\n",
            "Distance between paired atoms: 1.8752810529178483\n",
            "Distance between lone atom and closest paired atom: 4.728857357469811\n"
          ],
          "name": "stdout"
        }
      ]
    },
    {
      "cell_type": "code",
      "metadata": {
        "id": "FjLJK-iXAi9W",
        "colab_type": "code",
        "colab": {
          "base_uri": "https://localhost:8080/",
          "height": 445
        },
        "outputId": "15b3d3be-f271-4252-a1c7-95c517c16a92"
      },
      "source": [
        "test_Rfinal, test_max_force_component = run_minimization(test_bond_energy_fn, test_R_temp, test_shift)\n",
        "print('largest component of force after minimization = {}'.format(test_max_force_component))\n",
        "plot_system(test_Rfinal, test_box_size, paired_atoms=test_bonds)"
      ],
      "execution_count": 34,
      "outputs": [
        {
          "output_type": "stream",
          "text": [
            "largest component of force after minimization = 7.745681930232516e-15\n"
          ],
          "name": "stdout"
        },
        {
          "output_type": "display_data",
          "data": {
            "image/png": "[encoded data removed]",
            "text/plain": [
              "<Figure size 432x432 with 1 Axes>"
            ]
          },
          "metadata": {
            "tags": []
          }
        }
      ]
    },
    {
      "cell_type": "code",
      "metadata": {
        "id": "Gkhdx_NACULl",
        "colab_type": "code",
        "colab": {
          "base_uri": "https://localhost:8080/",
          "height": 68
        },
        "outputId": "bf9fd87a-4893-4200-f905-c7a01c338518"
      },
      "source": [
        "print('Optimal distance between atoms in u-potential: 2.0')\n",
        "print(f'Distance between paired atoms: {np.linalg.norm(test_Rfinal[0]-test_Rfinal[1])}')\n",
        "print(f'Distance between lone atom and closest paired atom: {np.linalg.norm(test_Rfinal[1]-test_Rfinal[2])}')"
      ],
      "execution_count": 35,
      "outputs": [
        {
          "output_type": "stream",
          "text": [
            "Optimal distance between atoms in u-potential: 2.0\n",
            "Distance between paired atoms: 1.0800000429153402\n",
            "Distance between lone atom and closest paired atom: 3.842321929559199\n"
          ],
          "name": "stdout"
        }
      ]
    },
    {
      "cell_type": "markdown",
      "metadata": {
        "id": "I7ofjUF4VdrI",
        "colab_type": "text"
      },
      "source": [
        "## Customizing potentials cookbook\n",
        "\n",
        "### Calculate the energy of a system of interacting particles"
      ]
    },
    {
      "cell_type": "code",
      "metadata": {
        "id": "sLwVVE5dNOD3",
        "colab_type": "code",
        "colab": {
          "base_uri": "https://localhost:8080/",
          "height": 428
        },
        "outputId": "201065b1-c512-495d-c4c8-d057b2226a76"
      },
      "source": [
        "N = 50\n",
        "dimension = 2\n",
        "box_size = 12.5\n",
        "\n",
        "key, split = random.split(key)\n",
        "R = random.uniform(split, (N,dimension), minval=0.0, maxval=box_size, dtype=f64) \n",
        "\n",
        "plot_system(R,box_size)"
      ],
      "execution_count": 16,
      "outputs": [
        {
          "output_type": "display_data",
          "data": {
            "image/png": "[encoded data removed]",
            "text/plain": [
              "<Figure size 432x432 with 1 Axes>"
            ]
          },
          "metadata": {
            "tags": []
          }
        }
      ]
    },
    {
      "cell_type": "code",
      "metadata": {
        "id": "T06dlPfxOJ6f",
        "colab_type": "code",
        "colab": {}
      },
      "source": [
        "displacement, shift = space.periodic(box_size)"
      ],
      "execution_count": 17,
      "outputs": []
    },
    {
      "cell_type": "code",
      "metadata": {
        "id": "QWp2FziLOq0y",
        "colab_type": "code",
        "colab": {}
      },
      "source": [
        "def u_function_pair(\n",
        "    displacement_or_metric, species=None, s_hb = 2.0): \n",
        "  s_hb = np.array(s_hb, dtype=f32)\n",
        "  return smap.pair(\n",
        "      u_function,\n",
        "      space.canonicalize_displacement_or_metric(displacement_or_metric),\n",
        "      species=species,\n",
        "      s_hb=s_hb)"
      ],
      "execution_count": 18,
      "outputs": []
    },
    {
      "cell_type": "code",
      "metadata": {
        "id": "aLhYFjR2PUuY",
        "colab_type": "code",
        "colab": {
          "base_uri": "https://localhost:8080/",
          "height": 119
        },
        "outputId": "6913c451-7b8a-4524-a33f-b33b00a8ce3e"
      },
      "source": [
        "# Create a function to calculate the total energy with specified parameters\n",
        "energy_fn = u_function_pair(displacement, s_hb = 2.0)\n",
        "\n",
        "# Use this to calculate the total energy\n",
        "print(energy_fn(R))\n",
        "\n",
        "# Use grad to calculate the net force\n",
        "force = -grad(energy_fn)(R)\n",
        "print(force[:5])"
      ],
      "execution_count": 19,
      "outputs": [
        {
          "output_type": "stream",
          "text": [
            "49203184309125.95\n",
            "[[-1.03833709e+03  9.54760685e+02]\n",
            " [-2.07953179e+07  8.58159755e+06]\n",
            " [-1.94080535e+04 -1.01028661e+05]\n",
            " [-3.55854768e+15  3.36683545e+14]\n",
            " [ 2.78804130e+10  6.76756612e+10]]\n"
          ],
          "name": "stdout"
        }
      ]
    },
    {
      "cell_type": "code",
      "metadata": {
        "id": "MNQOmCv9Pteh",
        "colab_type": "code",
        "colab": {}
      },
      "source": [
        "def run_minimization(energy_fn, R_init, shift, num_steps=5000):\n",
        "  dt_start = 0.001\n",
        "  dt_max   = 0.004\n",
        "  init,apply=minimize.fire_descent(jit(energy_fn),shift,dt_start=dt_start,dt_max=dt_max)\n",
        "  apply = jit(apply)\n",
        "\n",
        "  @jit\n",
        "  def scan_fn(state, i):\n",
        "    return apply(state), 0.\n",
        "\n",
        "  state = init(R_init)\n",
        "  state, _ = lax.scan(scan_fn,state,np.arange(num_steps))\n",
        "\n",
        "  return state.position, np.amax(np.abs(-grad(energy_fn)(state.position)))"
      ],
      "execution_count": 20,
      "outputs": []
    },
    {
      "cell_type": "code",
      "metadata": {
        "id": "uSqK_8Y3Nxck",
        "colab_type": "code",
        "colab": {}
      },
      "source": [
        "def run_parallel_minimization(system_energy_fn, bond_energy_fn, R_init, shift, num_steps=1000):\n",
        "  dt_start = 0.001\n",
        "  dt_max   = 0.004\n",
        "  init_system,apply_system=minimize.fire_descent(jit(system_energy_fn),shift,dt_start=dt_start,dt_max=dt_max)\n",
        "  _, apply_bond = minimize.fire_descent(jit(bond_energy_fn),shift,dt_start=dt_start,dt_max=dt_max)\n",
        "  apply_system = jit(apply_system)\n",
        "  apply_bond = jit(apply_bond)\n",
        "\n",
        "  for i in range(num_steps):\n",
        "    @jit\n",
        "    def scan_fn_system(state, i):\n",
        "      return apply_system(state), 0.\n",
        "    \n",
        "    def scan_fn_bond(state, i):\n",
        "      return apply_bond(state), 0.\n",
        "    \n",
        "    state = init_system(R_init)\n",
        "\n",
        "    state, _ = lax.scan(scan_fn_system, state, np.arange(2))\n",
        "    state, _ = lax.scan(scan_fn_bond, state, np.arange(10))\n",
        "    R_init = state.position\n",
        "\n",
        "  return state.position, np.amax(np.abs(-grad(energy_fn)(state.position)))\n"
      ],
      "execution_count": 70,
      "outputs": []
    },
    {
      "cell_type": "code",
      "metadata": {
        "id": "iCagPyMuQVSZ",
        "colab_type": "code",
        "colab": {
          "base_uri": "https://localhost:8080/",
          "height": 445
        },
        "outputId": "219bfe0d-4763-4a76-c918-ab5cfeaa6e4a"
      },
      "source": [
        "Rfinal, max_force_component = run_minimization(energy_fn, R, shift)\n",
        "print('largest component of force after minimization = {}'.format(max_force_component))\n",
        "plot_system( Rfinal, box_size)\n"
      ],
      "execution_count": 21,
      "outputs": [
        {
          "output_type": "stream",
          "text": [
            "largest component of force after minimization = 7.66053886991358e-13\n"
          ],
          "name": "stdout"
        },
        {
          "output_type": "display_data",
          "data": {
            "image/png": "[encoded data removed]",
            "text/plain": [
              "<Figure size 432x432 with 1 Axes>"
            ]
          },
          "metadata": {
            "tags": []
          }
        }
      ]
    },
    {
      "cell_type": "markdown",
      "metadata": {
        "id": "bDegfL4kWGc8",
        "colab_type": "text"
      },
      "source": [
        "### Creating a truncated potential"
      ]
    },
    {
      "cell_type": "code",
      "metadata": {
        "id": "K5HOcnHARWMI",
        "colab_type": "code",
        "colab": {
          "base_uri": "https://localhost:8080/",
          "height": 299
        },
        "outputId": "4b336e09-e012-4d9a-a86f-b5a28c2cd3b9"
      },
      "source": [
        "dr = np.arange(1.0,5,0.01)\n",
        "S = energy.multiplicative_isotropic_cutoff(lambda dr:  1, r_onset=1.25, r_cutoff=4.5)(dr)\n",
        "ngradS = vmap(grad(energy.multiplicative_isotropic_cutoff(lambda dr:  1, r_onset=1.25, r_cutoff=4.5)))(dr)\n",
        "plt.plot(dr,S,label=r'$S(r)$')\n",
        "plt.plot(dr,ngradS,label=r'$\\frac{dS(r)}{dr}$')\n",
        "plt.legend()\n",
        "format_plot(r'$r$','')\n",
        "finalize_plot()"
      ],
      "execution_count": 22,
      "outputs": [
        {
          "output_type": "display_data",
          "data": {
            "image/png": "[encoded data removed]",
            "text/plain": [
              "<Figure size 432x302.4 with 1 Axes>"
            ]
          },
          "metadata": {
            "tags": [],
            "needs_background": "light"
          }
        }
      ]
    },
    {
      "cell_type": "code",
      "metadata": {
        "id": "J-C74Bd_T9Ur",
        "colab_type": "code",
        "colab": {
          "base_uri": "https://localhost:8080/",
          "height": 299
        },
        "outputId": "e229dda9-316f-4eba-ff9f-193f00bc5e62"
      },
      "source": [
        "u_function_cutoff = energy.multiplicative_isotropic_cutoff(\n",
        "    u_function, r_onset=1.25, r_cutoff=4.5)\n",
        "\n",
        "dr = np.arange(1.0,5,0.01)\n",
        "V = u_function(dr)\n",
        "V_cutoff = u_function_cutoff(dr)\n",
        "F = -vmap(grad(u_function))(dr)\n",
        "F_cutoff = -vmap(grad(u_function_cutoff))(dr)\n",
        "plt.plot(dr,V, label=r'$V(r)$')\n",
        "plt.plot(dr,V_cutoff, label=r'$\\tilde V(r)$')\n",
        "plt.plot(dr,F, label=r'$-\\frac{d}{dr} V(r)$')\n",
        "plt.plot(dr,F_cutoff, label=r'$-\\frac{d}{dr} \\tilde V(r)$')\n",
        "plt.legend()\n",
        "format_plot('$r$', '')\n",
        "plt.ylim(-3,5)\n",
        "finalize_plot()"
      ],
      "execution_count": 23,
      "outputs": [
        {
          "output_type": "display_data",
          "data": {
            "image/png": "[encoded data removed]",
            "text/plain": [
              "<Figure size 432x302.4 with 1 Axes>"
            ]
          },
          "metadata": {
            "tags": [],
            "needs_background": "light"
          }
        }
      ]
    },
    {
      "cell_type": "code",
      "metadata": {
        "id": "t-2cRY0CVZO3",
        "colab_type": "code",
        "colab": {}
      },
      "source": [
        "def u_function_cutoff_pair(\n",
        "    displacement_or_metric, s_hb = 2.0, r_onset = 1.25, r_cutoff = 4.5):\n",
        "  s_hb = np.array(s_hb, dtype=f32)\n",
        "  return smap.pair(\n",
        "      energy.multiplicative_isotropic_cutoff(\n",
        "          u_function, r_onset=r_onset, r_cutoff=r_cutoff),\n",
        "      space.canonicalize_displacement_or_metric(displacement_or_metric),\n",
        "      s_hb=s_hb)"
      ],
      "execution_count": 24,
      "outputs": []
    },
    {
      "cell_type": "code",
      "metadata": {
        "id": "Nae1gofyXeAE",
        "colab_type": "code",
        "colab": {
          "base_uri": "https://localhost:8080/",
          "height": 547
        },
        "outputId": "58b8bb66-54ae-482a-d9b2-b509d6e1c96a"
      },
      "source": [
        "# Create a function to calculate the total energy\n",
        "energy_fn = u_function_cutoff_pair(displacement, s_hb=2.0, r_onset=1.25, r_cutoff=4.5)\n",
        "\n",
        "# Use this to calculate the total energy\n",
        "print(energy_fn(R))\n",
        "\n",
        "# Use grad to calculate the net force\n",
        "force = -grad(energy_fn)(R)\n",
        "print(force[:5])\n",
        "\n",
        "# Minimize the energy using the FIRE algorithm\n",
        "Rfinal, max_force_component = run_minimization(energy_fn, R, shift)\n",
        "print('largest component of force after minimization = {}'.format(max_force_component))\n",
        "plot_system( Rfinal, box_size )"
      ],
      "execution_count": 25,
      "outputs": [
        {
          "output_type": "stream",
          "text": [
            "49203184309129.21\n",
            "[[-1.03832694e+03  9.54883335e+02]\n",
            " [-2.07953177e+07  8.58159763e+06]\n",
            " [-1.94081367e+04 -1.01028635e+05]\n",
            " [-3.55854768e+15  3.36683545e+14]\n",
            " [ 2.78804130e+10  6.76756612e+10]]\n",
            "largest component of force after minimization = 2.7105873101618272e-11\n"
          ],
          "name": "stdout"
        },
        {
          "output_type": "display_data",
          "data": {
            "image/png": "[encoded data removed]",
            "text/plain": [
              "<Figure size 432x432 with 1 Axes>"
            ]
          },
          "metadata": {
            "tags": []
          }
        }
      ]
    },
    {
      "cell_type": "code",
      "metadata": {
        "id": "IQEvEgu0XuI9",
        "colab_type": "code",
        "colab": {
          "base_uri": "https://localhost:8080/",
          "height": 119
        },
        "outputId": "53d123f6-87b3-4380-e03f-e033c262c81d"
      },
      "source": [
        "print(energy_fn(Rfinal))\n",
        "print(-grad(energy_fn)(Rfinal)[:5])"
      ],
      "execution_count": 26,
      "outputs": [
        {
          "output_type": "stream",
          "text": [
            "-56.69623723462198\n",
            "[[-2.73070455e-12  3.09263726e-12]\n",
            " [ 1.46549439e-12  1.66799907e-12]\n",
            " [-1.10296217e-11  9.60853619e-12]\n",
            " [-8.88356055e-12  1.68665082e-12]\n",
            " [-4.22989421e-12 -3.22897264e-12]]\n"
          ],
          "name": "stdout"
        }
      ]
    },
    {
      "cell_type": "code",
      "metadata": {
        "id": "TGpPEnzoYF0k",
        "colab_type": "code",
        "colab": {}
      },
      "source": [
        ""
      ],
      "execution_count": 26,
      "outputs": []
    }
  ]
}